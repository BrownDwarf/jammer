{
 "cells": [
  {
   "cell_type": "markdown",
   "metadata": {},
   "source": [
    "# jammer\n",
    "## 1 Extract, transform, and load\n",
    "### I- Data for Starfish\n",
    "\n",
    "Michael Gully-Santiago  \n",
    "Friday, March 31, 2017  "
   ]
  },
  {
   "cell_type": "code",
   "execution_count": 1,
   "metadata": {
    "collapsed": true
   },
   "outputs": [],
   "source": [
    "import numpy as np\n",
    "import matplotlib.pyplot as plt\n",
    "% matplotlib inline\n",
    "% config InlineBackend.figure_format = 'retina'\n",
    "import seaborn as sns"
   ]
  },
  {
   "cell_type": "code",
   "execution_count": 2,
   "metadata": {
    "collapsed": true
   },
   "outputs": [],
   "source": [
    "from astropy.io import fits\n",
    "import h5py"
   ]
  },
  {
   "cell_type": "code",
   "execution_count": 3,
   "metadata": {
    "collapsed": true
   },
   "outputs": [],
   "source": [
    "import astropy.units as u"
   ]
  },
  {
   "cell_type": "code",
   "execution_count": 4,
   "metadata": {
    "collapsed": true
   },
   "outputs": [],
   "source": [
    "from os import listdir"
   ]
  },
  {
   "cell_type": "code",
   "execution_count": 5,
   "metadata": {
    "collapsed": false
   },
   "outputs": [],
   "source": [
    "files = listdir('../data/raw/')"
   ]
  },
  {
   "cell_type": "markdown",
   "metadata": {},
   "source": [
    "We need to convert the units to what Starfish expects:\n",
    "- **wavelengths:** Angstroms\n",
    "- **fluxes:** erg/s/cm$^2$/A"
   ]
  },
  {
   "cell_type": "markdown",
   "metadata": {},
   "source": [
    "update 4/21/2017:\n",
    "Some sigmas have negative or zero values!!!  Fix this!"
   ]
  },
  {
   "cell_type": "code",
   "execution_count": 16,
   "metadata": {
    "collapsed": false
   },
   "outputs": [
    {
     "name": "stdout",
     "output_type": "stream",
     "text": [
      "000: 10065  -  24949   ../data/reduced/2M_J0050.hdf5\n",
      "001: 10114  -  24985   ../data/reduced/2M_J0415.hdf5\n",
      "002: 10065  -  24949   ../data/reduced/2M_J0727.hdf5\n",
      "003: 10051  -  24940   ../data/reduced/2M_J0729.hdf5\n",
      "004: 10052  -  24940   ../data/reduced/2M_J0939.hdf5\n",
      "005: 10032  -  24926   ../data/reduced/2M_J1114.hdf5\n",
      "006: 10080  -  24960   ../data/reduced/2M_J1217.hdf5\n",
      "007: 10103  -  24977   ../data/reduced/2M_J1553.hdf5\n",
      "008: 10025  -  24921   ../data/reduced/Gl570D.hdf5\n",
      "009: 10055  -  24942   ../data/reduced/HD3651B.hdf5\n",
      "010: 10037  -  24929   ../data/reduced/SDSS_1416b.hdf5\n"
     ]
    }
   ],
   "source": [
    "for i, file in enumerate(files):\n",
    "    with open('../data/raw/{}'.format(file), 'rb') as f:\n",
    "        wlgrid, Flux, Flux_err = np.load(f, allow_pickle=True, encoding='bytes')\n",
    "        \n",
    "    out_name = '../data/reduced/{}.hdf5'.format(file[:-4])\n",
    "    fls_out = (Flux*u.Watt/u.m**2/u.m).to(u.erg/u.s/u.cm**2/u.Angstrom).value\n",
    "    sig_out = (Flux_err*u.Watt/u.m**2/u.m).to(u.erg/u.s/u.cm**2/u.Angstrom).value\n",
    "    #print(out_name, np.min(sig_out), np.sum(sig_out==0), np.percentile(fls_out/sig_out, 80))\n",
    "    bi = sig_out <= 0\n",
    "    sig_out[bi] = np.abs(fls_out[bi])\n",
    "    wls_out = wlgrid*10000.0\n",
    "    msk_out = np.ones(len(wls_out), dtype=int)\n",
    "    f_new = h5py.File(out_name, 'w')\n",
    "    f_new.create_dataset('fls', data=fls_out)\n",
    "    f_new.create_dataset('wls', data=wls_out)\n",
    "    f_new.create_dataset('sigmas', data=sig_out)\n",
    "    f_new.create_dataset('masks', data=msk_out)\n",
    "    print(\"{:03d}: {:.0f}  -  {:.0f}   {}\".format(i, wls_out[0], wls_out[-1], out_name))\n",
    "    f_new.close()"
   ]
  },
  {
   "cell_type": "markdown",
   "metadata": {},
   "source": [
    "### The end!"
   ]
  }
 ],
 "metadata": {
  "kernelspec": {
   "display_name": "Python 3",
   "language": "python",
   "name": "python3"
  },
  "language_info": {
   "codemirror_mode": {
    "name": "ipython",
    "version": 3
   },
   "file_extension": ".py",
   "mimetype": "text/x-python",
   "name": "python",
   "nbconvert_exporter": "python",
   "pygments_lexer": "ipython3",
   "version": "3.4.5"
  }
 },
 "nbformat": 4,
 "nbformat_minor": 0
}
